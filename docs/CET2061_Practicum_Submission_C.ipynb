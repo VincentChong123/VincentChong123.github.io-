{
 "cells": [
  {
   "cell_type": "markdown",
   "id": "232b5e8e",
   "metadata": {},
   "source": [
    "8 features, 100+ rows"
   ]
  },
  {
   "cell_type": "markdown",
   "id": "736b606b",
   "metadata": {},
   "source": [
    "---\n",
    "# title: CET2061 - Machine Learning Practicum\n",
    "# author: Chong Wei Sheng\n",
    "# date: last-modified\n",
    "format:\n",
    " html:\n",
    "   code-fold: true\n",
    "   collapse: false\n",
    "toc: true\n",
    "toc-depth: 2 \n",
    "number-sections: true\n",
    "version: 0.5\n",
    "---"
   ]
  },
  {
   "cell_type": "markdown",
   "id": "7a977675-0b8f-42ac-85d6-140e690b26c5",
   "metadata": {},
   "source": [
    "## Submission Requirement: \n",
    "\n",
    "One Practicum; deadline: 12 pm (noon), 1st July 2024 (day 13 of the module)\n",
    "\n",
    "Zip together the following files: \n",
    "- <b>CET2061_Practicum_Submission_<font color=\"FF0000\">Your_Name</font>.ipynb</b>.\n",
    "- <b>Your created dataset file (in .csv) in Part 2</b>\n",
    "\n",
    "Ensure that when your zipped file is extracted, your <b> CET2061_Practicum_Submission_<font color=\"FF0000\">Your_Name</font>.ipynb </b>can run without any errors, particularly <u>FileNotFoundError</u>. Please double check before submitting. Failure to do so will result in a Not Yet Competent (NYC)."
   ]
  },
  {
   "cell_type": "markdown",
   "id": "99af31f1-78c1-4fd2-988d-27376e20560e",
   "metadata": {},
   "source": [
    "<hr style=\"border-color: black; height: 0.1px\">"
   ]
  },
  {
   "cell_type": "code",
   "execution_count": null,
   "id": "04125715",
   "metadata": {},
   "outputs": [],
   "source": []
  },
  {
   "cell_type": "markdown",
   "id": "24e49d04-004d-47e3-96ef-7e2e5180fb9f",
   "metadata": {},
   "source": [
    "# Part 1. Gradient Boosting, Explain"
   ]
  },
  {
   "cell_type": "code",
   "execution_count": null,
   "id": "487e124b-5036-434d-b28f-ebde2c56b5df",
   "metadata": {},
   "outputs": [],
   "source": []
  },
  {
   "cell_type": "markdown",
   "id": "1cdfb792-530a-4c55-aca6-e7943d734a07",
   "metadata": {},
   "source": [
    "# Part 2. Your Own Function, Crack"
   ]
  },
  {
   "cell_type": "code",
   "execution_count": 1,
   "id": "7fabf287",
   "metadata": {},
   "outputs": [],
   "source": [
    "from sklearn.pipeline import Pipeline\n",
    "from sklearn.preprocessing import (\n",
    "    StandardScaler,\n",
    "    MinMaxScaler,\n",
    "    MaxAbsScaler,\n",
    "    RobustScaler,\n",
    ")\n",
    "from sklearn.linear_model import Lasso, Ridge, LinearRegression\n",
    "from sklearn.ensemble import GradientBoostingRegressor, AdaBoostRegressor\n",
    "from sklearn.model_selection import RandomizedSearchCV\n",
    "\n",
    "from typing import Dict, List"
   ]
  },
  {
   "cell_type": "markdown",
   "id": "91ad86ea",
   "metadata": {},
   "source": [
    "## Prepare data"
   ]
  },
  {
   "cell_type": "code",
   "execution_count": 2,
   "id": "dcbd411e",
   "metadata": {},
   "outputs": [],
   "source": [
    "import sys\n",
    "import os\n",
    "\n",
    "# Suppress output\n",
    "sys.stdout = open(os.devnull, 'w')\n",
    "\n",
    "%pip install --quiet matplotlib\n",
    "%pip install --quiet pandas\n",
    "%pip install --quiet seaborn\n",
    "%pip install --quiet scikit-learn\n",
    "\n",
    "# Re-enable output\n",
    "sys.stdout = sys.__stdout__"
   ]
  },
  {
   "cell_type": "code",
   "execution_count": 3,
   "id": "d2964516",
   "metadata": {},
   "outputs": [],
   "source": [
    "import matplotlib.pyplot as plt\n",
    "\n",
    "# Suppress specific sklearn warnings\n",
    "import warnings\n",
    "import numpy as np\n",
    "import pandas as pd\n",
    "from sklearn.model_selection import train_test_split\n",
    "from sklearn.metrics import r2_score\n",
    "\n",
    "warnings.filterwarnings\n",
    "warnings.filterwarnings(\"ignore\", category=UserWarning, module=\"sklearn\")"
   ]
  },
  {
   "cell_type": "markdown",
   "id": "711b87ce",
   "metadata": {},
   "source": [
    "### Generate feature using custom function"
   ]
  },
  {
   "cell_type": "code",
   "execution_count": 4,
   "id": "1d333284-af6d-4166-85f0-1a636d466589",
   "metadata": {},
   "outputs": [],
   "source": [
    "# NUM_FEATURE = 8\n",
    "# NUM_SAMPLE = 200\n",
    "\n",
    "SEED = 123\n",
    "np.random.seed(SEED)\n",
    "\n",
    "# # Generate array with 200 rows and 8 columns using numpy.random.normal\n",
    "# array = np.random.randint(low=-1234, high=1234, size=NUM_SAMPLE * NUM_FEATURE).reshape(\n",
    "#     NUM_SAMPLE, -1\n",
    "# )\n",
    "# assert (array == 0).any() == False\n",
    "\n",
    "# features = pd.DataFrame(array, columns=[f\"x{n+1}\" for n in range(NUM_FEATURE)])\n",
    "# features = features.map(lambda x: int(x))\n",
    "# # assert (features != 0).all().all()\n",
    "# features.head()\n",
    "# # assert features.any()\n",
    "# # features.where(features == 0)\n",
    "\n",
    "# # # # _ = plt.boxplot(features)"
   ]
  },
  {
   "cell_type": "code",
   "execution_count": 5,
   "id": "2075e971",
   "metadata": {},
   "outputs": [
    {
     "data": {
      "text/html": [
       "<div>\n",
       "<style scoped>\n",
       "    .dataframe tbody tr th:only-of-type {\n",
       "        vertical-align: middle;\n",
       "    }\n",
       "\n",
       "    .dataframe tbody tr th {\n",
       "        vertical-align: top;\n",
       "    }\n",
       "\n",
       "    .dataframe thead th {\n",
       "        text-align: right;\n",
       "    }\n",
       "</style>\n",
       "<table border=\"1\" class=\"dataframe\">\n",
       "  <thead>\n",
       "    <tr style=\"text-align: right;\">\n",
       "      <th></th>\n",
       "      <th>Customer Type (CT)</th>\n",
       "      <th>Subscription Plan (SP)</th>\n",
       "      <th>Support Tickets Raised (ST)</th>\n",
       "      <th>Region (R)</th>\n",
       "      <th>Age (A)</th>\n",
       "      <th>Monthly Spend (MS)</th>\n",
       "      <th>Months with Service (MWS)</th>\n",
       "      <th>Number of Referrals (NR)</th>\n",
       "      <th>f_values</th>\n",
       "    </tr>\n",
       "  </thead>\n",
       "  <tbody>\n",
       "    <tr>\n",
       "      <th>0</th>\n",
       "      <td>0</td>\n",
       "      <td>1</td>\n",
       "      <td>3</td>\n",
       "      <td>2</td>\n",
       "      <td>46</td>\n",
       "      <td>388</td>\n",
       "      <td>54</td>\n",
       "      <td>19</td>\n",
       "      <td>2573.626683</td>\n",
       "    </tr>\n",
       "    <tr>\n",
       "      <th>1</th>\n",
       "      <td>1</td>\n",
       "      <td>2</td>\n",
       "      <td>4</td>\n",
       "      <td>0</td>\n",
       "      <td>62</td>\n",
       "      <td>207</td>\n",
       "      <td>20</td>\n",
       "      <td>19</td>\n",
       "      <td>2431.263167</td>\n",
       "    </tr>\n",
       "    <tr>\n",
       "      <th>2</th>\n",
       "      <td>0</td>\n",
       "      <td>0</td>\n",
       "      <td>4</td>\n",
       "      <td>3</td>\n",
       "      <td>52</td>\n",
       "      <td>10</td>\n",
       "      <td>30</td>\n",
       "      <td>14</td>\n",
       "      <td>17.384786</td>\n",
       "    </tr>\n",
       "    <tr>\n",
       "      <th>3</th>\n",
       "      <td>0</td>\n",
       "      <td>0</td>\n",
       "      <td>0</td>\n",
       "      <td>2</td>\n",
       "      <td>57</td>\n",
       "      <td>416</td>\n",
       "      <td>38</td>\n",
       "      <td>3</td>\n",
       "      <td>5568.073767</td>\n",
       "    </tr>\n",
       "    <tr>\n",
       "      <th>4</th>\n",
       "      <td>0</td>\n",
       "      <td>0</td>\n",
       "      <td>1</td>\n",
       "      <td>3</td>\n",
       "      <td>31</td>\n",
       "      <td>387</td>\n",
       "      <td>3</td>\n",
       "      <td>8</td>\n",
       "      <td>1718.941221</td>\n",
       "    </tr>\n",
       "  </tbody>\n",
       "</table>\n",
       "</div>"
      ],
      "text/plain": [
       "   Customer Type (CT)  Subscription Plan (SP)  Support Tickets Raised (ST)  \\\n",
       "0                   0                       1                            3   \n",
       "1                   1                       2                            4   \n",
       "2                   0                       0                            4   \n",
       "3                   0                       0                            0   \n",
       "4                   0                       0                            1   \n",
       "\n",
       "   Region (R)  Age (A)  Monthly Spend (MS)  Months with Service (MWS)  \\\n",
       "0           2       46                 388                         54   \n",
       "1           0       62                 207                         20   \n",
       "2           3       52                  10                         30   \n",
       "3           2       57                 416                         38   \n",
       "4           3       31                 387                          3   \n",
       "\n",
       "   Number of Referrals (NR)     f_values  \n",
       "0                        19  2573.626683  \n",
       "1                        19  2431.263167  \n",
       "2                        14    17.384786  \n",
       "3                         3  5568.073767  \n",
       "4                         8  1718.941221  "
      ]
     },
     "metadata": {},
     "output_type": "display_data"
    }
   ],
   "source": [
    "# Define the function f\n",
    "def calculate_f(CT, SP, ST, R, MS, MWS, NR, A):\n",
    "    term1 = (np.exp(CT + 1) / np.log2((SP + 5) / 3)) + (ST + 1) / (R + 1)\n",
    "    term2 = MS * MWS / (NR + 1)\n",
    "    f = term1 * MS + term2 - A\n",
    "    return f\n",
    "\n",
    "\n",
    "# Generate random data\n",
    "num_samples = 1000\n",
    "np.random.seed(42)\n",
    "new_df = {\n",
    "    \"Customer Type (CT)\": np.random.choice([0, 1], size=num_samples),\n",
    "    \"Subscription Plan (SP)\": np.random.choice([0, 1, 2], size=num_samples),\n",
    "    \"Support Tickets Raised (ST)\": np.random.randint(0, 6, size=num_samples),\n",
    "    \"Region (R)\": np.random.choice([0, 1, 2, 3], size=num_samples),\n",
    "    \"Age (A)\": np.random.randint(18, 66, size=num_samples),\n",
    "    \"Monthly Spend (MS)\": np.random.randint(10, 501, size=num_samples),\n",
    "    \"Months with Service (MWS)\": np.random.randint(1, 61, size=num_samples),\n",
    "    \"Number of Referrals (NR)\": np.random.randint(0, 21, size=num_samples),\n",
    "}\n",
    "\n",
    "# Calculate f for each sample\n",
    "new_df[\"f_values\"] = calculate_f(\n",
    "    new_df[\"Customer Type (CT)\"],\n",
    "    new_df[\"Subscription Plan (SP)\"],\n",
    "    new_df[\"Support Tickets Raised (ST)\"],\n",
    "    new_df[\"Region (R)\"],\n",
    "    new_df[\"Monthly Spend (MS)\"],\n",
    "    new_df[\"Months with Service (MWS)\"],\n",
    "    new_df[\"Number of Referrals (NR)\"],\n",
    "    new_df[\"Age (A)\"],\n",
    ")\n",
    "\n",
    "df_generated = pd.DataFrame(new_df)\n",
    "\n",
    "features = df_generated.iloc[:, :-1]\n",
    "y = df_generated.iloc[:, -1]\n",
    "display(df_generated.head())"
   ]
  },
  {
   "cell_type": "markdown",
   "id": "a69f85ab",
   "metadata": {},
   "source": [
    "accuracy train, test 0.9"
   ]
  },
  {
   "cell_type": "markdown",
   "id": "d7baa999",
   "metadata": {},
   "source": [
    "$$\n",
    "\\begin{align}\n",
    "f(x_1, x_2, x_3, x_4, x_5, x_6, x_7, x_8) \n",
    "&= x_1 \\cdot \\sin(x_2) + \\log(\\lvert x_3 \\rvert + 1) \\cdot \\cos(x_4)  \\\\\n",
    "&+ 10*\\cos(x_5 - x_6) \\\\\n",
    "&+42*\\sin\\left(x_7 \\cdot \\log(\\lvert x_8 \\rvert + 1)\\right)\n",
    "\\end{align}\n",
    "$$"
   ]
  },
  {
   "cell_type": "code",
   "execution_count": 6,
   "id": "f2ae298a",
   "metadata": {},
   "outputs": [],
   "source": [
    "# import math\n",
    "\n",
    "\n",
    "# def complex_function(x: np.array) -> float:\n",
    "#     [x1, x2, x3, x4, x5, x6, x7, x8] = list(x)\n",
    "#     # term1 = x1 * math.sin(x2)\n",
    "#     # term1 = x1 + x2 + x3\n",
    "#     term1 = (x1 / (2 * x2)) - 3 * x3 + x4 + x5 / x6 + (7.7 * x7 / x8)\n",
    "#     # term2 = math.log(abs(x3) + 1) * math.cos(x4)\n",
    "#     # term3 = 1  # 10 * math.cos(x5 - x6)\n",
    "#     # term4 = 1  # 42 * math.sin(x7 * math.log(abs(x8) + 1))\n",
    "#     # return (term4 + term1 - term2) / term3\n",
    "#     return term1\n",
    "\n",
    "\n",
    "# # complex_function(features.iloc[1, :])\n",
    "\n",
    "# y = features.apply(lambda row: complex_function(row[:9]), axis=\"columns\")\n",
    "# xy = pd.concat([features, y], axis=\"columns\")\n",
    "# xy.columns = [*features.columns, \"y_train\"]\n",
    "# xy.to_csv(f\"./xy_R2_col_{NUM_FEATURE}_row_{NUM_SAMPLE}_seed_{SEED}.csv\", index=False)\n",
    "\n",
    "# print(xy.shape)\n",
    "# xy.head()"
   ]
  },
  {
   "cell_type": "markdown",
   "id": "e1f9d07a",
   "metadata": {},
   "source": [
    "## 2.4 Train"
   ]
  },
  {
   "cell_type": "code",
   "execution_count": 7,
   "id": "c94b5d48",
   "metadata": {},
   "outputs": [],
   "source": [
    "splited = train_test_split(\n",
    "    features.to_numpy(),\n",
    "    np.array(y).reshape(-1, 1),\n",
    "    test_size=0.3,\n",
    "    random_state=SEED,\n",
    "    shuffle=True,\n",
    ")\n",
    "# for i, c in enumerate(splited):\n",
    "#     print(c.shape)\n",
    "\n",
    "X_tr, X_te, y_tr, y_te = splited"
   ]
  },
  {
   "cell_type": "markdown",
   "id": "1bb753c4",
   "metadata": {},
   "source": [
    "### Setup a consistent pipeline"
   ]
  },
  {
   "cell_type": "markdown",
   "id": "2c3cb2c6",
   "metadata": {},
   "source": [
    "#### Placeholder pipeline"
   ]
  },
  {
   "cell_type": "code",
   "execution_count": 8,
   "id": "3dd38cbe",
   "metadata": {},
   "outputs": [],
   "source": [
    "pipe = Pipeline([(\"scaler\", StandardScaler()), (\"regressor\", Lasso())])"
   ]
  },
  {
   "cell_type": "markdown",
   "id": "736c3ffc",
   "metadata": {},
   "source": [
    "#### Grid search strategy"
   ]
  },
  {
   "cell_type": "code",
   "execution_count": 9,
   "id": "75b60950",
   "metadata": {},
   "outputs": [
    {
     "name": "stdout",
     "output_type": "stream",
     "text": [
      "key 0 regressor_no_alpha\n",
      "#df_results.mean_test_score.max() 0.6291435127473595 \n",
      "\n",
      "r2 test:  0.5845610832685342\n",
      "r2 train:  0.6393047718158889\n",
      "==========================\n",
      "key 1 regressor_l1\n",
      "#df_results.mean_test_score.max() 0.6294050711060167 \n",
      "\n",
      "r2 test:  0.588977186127529\n",
      "r2 train:  0.6389525525060908\n",
      "==========================\n",
      "key 2 ensemble_without_learning_rate\n",
      "#df_results.mean_test_score.max() 0.7522981714324395 \n",
      "\n",
      "r2 test:  0.7427374665449082\n",
      "r2 train:  0.8223271617293714\n",
      "==========================\n",
      "key 3 ensemble_with_learning_rate\n",
      "#df_results.mean_test_score.max() 0.9431606598475064 \n",
      "\n",
      "r2 test:  0.9480409913205419\n",
      "r2 train:  0.9964943673011502\n",
      "==========================\n",
      "------------\n",
      "combine max 0.9431606598475064\n",
      "Requirement already satisfied: plotly in /Users/daddy2/miniconda3/envs/py311torch/lib/python3.11/site-packages (5.22.0)\n",
      "Requirement already satisfied: tenacity>=6.2.0 in /Users/daddy2/miniconda3/envs/py311torch/lib/python3.11/site-packages (from plotly) (8.4.1)\n",
      "Requirement already satisfied: packaging in /Users/daddy2/miniconda3/envs/py311torch/lib/python3.11/site-packages (from plotly) (24.1)\n",
      "Note: you may need to restart the kernel to use updated packages.\n",
      "zsh:1: 4.2.0 not found\n",
      "Note: you may need to restart the kernel to use updated packages.\n"
     ]
    },
    {
     "data": {
      "text/html": [
       "<div>\n",
       "<style scoped>\n",
       "    .dataframe tbody tr th:only-of-type {\n",
       "        vertical-align: middle;\n",
       "    }\n",
       "\n",
       "    .dataframe tbody tr th {\n",
       "        vertical-align: top;\n",
       "    }\n",
       "\n",
       "    .dataframe thead th {\n",
       "        text-align: right;\n",
       "    }\n",
       "</style>\n",
       "<table border=\"1\" class=\"dataframe\">\n",
       "  <thead>\n",
       "    <tr style=\"text-align: right;\">\n",
       "      <th></th>\n",
       "      <th>params</th>\n",
       "      <th>mean_test_score</th>\n",
       "    </tr>\n",
       "  </thead>\n",
       "  <tbody>\n",
       "    <tr>\n",
       "      <th>2</th>\n",
       "      <td>[MaxAbsScaler(), LinearRegression()]</td>\n",
       "      <td>0.629144</td>\n",
       "    </tr>\n",
       "    <tr>\n",
       "      <th>0</th>\n",
       "      <td>[StandardScaler(), LinearRegression()]</td>\n",
       "      <td>0.629144</td>\n",
       "    </tr>\n",
       "  </tbody>\n",
       "</table>\n",
       "</div>"
      ],
      "text/plain": [
       "                                   params  mean_test_score\n",
       "2    [MaxAbsScaler(), LinearRegression()]         0.629144\n",
       "0  [StandardScaler(), LinearRegression()]         0.629144"
      ]
     },
     "metadata": {},
     "output_type": "display_data"
    },
    {
     "data": {
      "image/png": "[encoded data removed]",
      "text/plain": [
       "<Figure size 600x300 with 1 Axes>"
      ]
     },
     "metadata": {},
     "output_type": "display_data"
    },
    {
     "data": {
      "text/html": [
       "<div>\n",
       "<style scoped>\n",
       "    .dataframe tbody tr th:only-of-type {\n",
       "        vertical-align: middle;\n",
       "    }\n",
       "\n",
       "    .dataframe tbody tr th {\n",
       "        vertical-align: top;\n",
       "    }\n",
       "\n",
       "    .dataframe thead th {\n",
       "        text-align: right;\n",
       "    }\n",
       "</style>\n",
       "<table border=\"1\" class=\"dataframe\">\n",
       "  <thead>\n",
       "    <tr style=\"text-align: right;\">\n",
       "      <th></th>\n",
       "      <th>params</th>\n",
       "      <th>mean_test_score</th>\n",
       "    </tr>\n",
       "  </thead>\n",
       "  <tbody>\n",
       "    <tr>\n",
       "      <th>11</th>\n",
       "      <td>[RobustScaler(), 10, Lasso()]</td>\n",
       "      <td>0.629405</td>\n",
       "    </tr>\n",
       "    <tr>\n",
       "      <th>8</th>\n",
       "      <td>[StandardScaler(), 10, Lasso()]</td>\n",
       "      <td>0.629388</td>\n",
       "    </tr>\n",
       "  </tbody>\n",
       "</table>\n",
       "</div>"
      ],
      "text/plain": [
       "                             params  mean_test_score\n",
       "11    [RobustScaler(), 10, Lasso()]         0.629405\n",
       "8   [StandardScaler(), 10, Lasso()]         0.629388"
      ]
     },
     "metadata": {},
     "output_type": "display_data"
    },
    {
     "data": {
      "image/png": "[encoded data removed]",
      "text/plain": [
       "<Figure size 600x300 with 1 Axes>"
      ]
     },
     "metadata": {},
     "output_type": "display_data"
    },
    {
     "data": {
      "text/html": [
       "<div>\n",
       "<style scoped>\n",
       "    .dataframe tbody tr th:only-of-type {\n",
       "        vertical-align: middle;\n",
       "    }\n",
       "\n",
       "    .dataframe tbody tr th {\n",
       "        vertical-align: top;\n",
       "    }\n",
       "\n",
       "    .dataframe thead th {\n",
       "        text-align: right;\n",
       "    }\n",
       "</style>\n",
       "<table border=\"1\" class=\"dataframe\">\n",
       "  <thead>\n",
       "    <tr style=\"text-align: right;\">\n",
       "      <th></th>\n",
       "      <th>params</th>\n",
       "      <th>mean_test_score</th>\n",
       "    </tr>\n",
       "  </thead>\n",
       "  <tbody>\n",
       "    <tr>\n",
       "      <th>1</th>\n",
       "      <td>[MinMaxScaler(), AdaBoostRegressor()]</td>\n",
       "      <td>0.752298</td>\n",
       "    </tr>\n",
       "    <tr>\n",
       "      <th>3</th>\n",
       "      <td>[RobustScaler(), AdaBoostRegressor()]</td>\n",
       "      <td>0.748383</td>\n",
       "    </tr>\n",
       "  </tbody>\n",
       "</table>\n",
       "</div>"
      ],
      "text/plain": [
       "                                  params  mean_test_score\n",
       "1  [MinMaxScaler(), AdaBoostRegressor()]         0.752298\n",
       "3  [RobustScaler(), AdaBoostRegressor()]         0.748383"
      ]
     },
     "metadata": {},
     "output_type": "display_data"
    },
    {
     "data": {
      "image/png": "[encoded data removed]",
      "text/plain": [
       "<Figure size 600x300 with 1 Axes>"
      ]
     },
     "metadata": {},
     "output_type": "display_data"
    },
    {
     "data": {
      "text/html": [
       "<div>\n",
       "<style scoped>\n",
       "    .dataframe tbody tr th:only-of-type {\n",
       "        vertical-align: middle;\n",
       "    }\n",
       "\n",
       "    .dataframe tbody tr th {\n",
       "        vertical-align: top;\n",
       "    }\n",
       "\n",
       "    .dataframe thead th {\n",
       "        text-align: right;\n",
       "    }\n",
       "</style>\n",
       "<table border=\"1\" class=\"dataframe\">\n",
       "  <thead>\n",
       "    <tr style=\"text-align: right;\">\n",
       "      <th></th>\n",
       "      <th>params</th>\n",
       "      <th>mean_test_score</th>\n",
       "    </tr>\n",
       "  </thead>\n",
       "  <tbody>\n",
       "    <tr>\n",
       "      <th>20</th>\n",
       "      <td>[MinMaxScaler(), 200, 3, 0.1, GradientBoosting...</td>\n",
       "      <td>0.943161</td>\n",
       "    </tr>\n",
       "    <tr>\n",
       "      <th>36</th>\n",
       "      <td>[MaxAbsScaler(), 200, 5, 0.1, GradientBoosting...</td>\n",
       "      <td>0.930388</td>\n",
       "    </tr>\n",
       "  </tbody>\n",
       "</table>\n",
       "</div>"
      ],
      "text/plain": [
       "                                               params  mean_test_score\n",
       "20  [MinMaxScaler(), 200, 3, 0.1, GradientBoosting...         0.943161\n",
       "36  [MaxAbsScaler(), 200, 5, 0.1, GradientBoosting...         0.930388"
      ]
     },
     "metadata": {},
     "output_type": "display_data"
    },
    {
     "data": {
      "image/png": "[encoded data removed]",
      "text/plain": [
       "<Figure size 600x300 with 1 Axes>"
      ]
     },
     "metadata": {},
     "output_type": "display_data"
    },
    {
     "data": {
      "text/html": [
       "<div>\n",
       "<style scoped>\n",
       "    .dataframe tbody tr th:only-of-type {\n",
       "        vertical-align: middle;\n",
       "    }\n",
       "\n",
       "    .dataframe tbody tr th {\n",
       "        vertical-align: top;\n",
       "    }\n",
       "\n",
       "    .dataframe thead th {\n",
       "        text-align: right;\n",
       "    }\n",
       "</style>\n",
       "<table border=\"1\" class=\"dataframe\">\n",
       "  <thead>\n",
       "    <tr style=\"text-align: right;\">\n",
       "      <th></th>\n",
       "      <th>params</th>\n",
       "      <th>mean_test_score</th>\n",
       "    </tr>\n",
       "  </thead>\n",
       "  <tbody>\n",
       "    <tr>\n",
       "      <th>36</th>\n",
       "      <td>[MaxAbsScaler(), 200, 5, 0.1, GradientBoosting...</td>\n",
       "      <td>0.930388</td>\n",
       "    </tr>\n",
       "    <tr>\n",
       "      <th>20</th>\n",
       "      <td>[MinMaxScaler(), 200, 3, 0.1, GradientBoosting...</td>\n",
       "      <td>0.943161</td>\n",
       "    </tr>\n",
       "  </tbody>\n",
       "</table>\n",
       "</div>"
      ],
      "text/plain": [
       "                                               params  mean_test_score\n",
       "36  [MaxAbsScaler(), 200, 5, 0.1, GradientBoosting...         0.930388\n",
       "20  [MinMaxScaler(), 200, 3, 0.1, GradientBoosting...         0.943161"
      ]
     },
     "metadata": {},
     "output_type": "display_data"
    },
    {
     "data": {
      "image/png": "[encoded data removed]",
      "text/plain": [
       "<Figure size 1000x400 with 1 Axes>"
      ]
     },
     "metadata": {},
     "output_type": "display_data"
    }
   ],
   "source": [
    "param_dict = {\n",
    "    \"regressor_no_alpha\": {\"regressor\": [LinearRegression()]},\n",
    "    \"regressor_l1\": {\"regressor\": [Lasso()], \"regressor__alpha\": [0.1, 1, 10]},\n",
    "    # \"regressor_l2\": {\"regressor\": [Ridge()], \"regressor__alpha\": [0.1, 1, 10]},\n",
    "    \"ensemble_without_learning_rate\": {\n",
    "        \"regressor\": [AdaBoostRegressor()],\n",
    "    },\n",
    "    \"ensemble_with_learning_rate\": {\n",
    "        \"regressor\": [GradientBoostingRegressor()],\n",
    "        \"regressor__n_estimators\": [50, 100, 200],\n",
    "        \"regressor__learning_rate\": [0.01, 0.05, 0.1],\n",
    "        \"regressor__max_depth\": [3, 5, 7],\n",
    "    },\n",
    "}\n",
    "\n",
    "verbose = 0\n",
    "n_iter = 40\n",
    "cv_fold = 5\n",
    "\n",
    "\n",
    "def print_results(cv_results_):\n",
    "    df_results = pd.DataFrame(cv_results_)\n",
    "    df_results.sort_values(by=\"rank_test_score\", inplace=True)\n",
    "    top_10 = df_results\n",
    "    top_10.params = top_10.params.apply(lambda x: [v for v in x.values()])\n",
    "    best2 = top_10[[\"params\", \"mean_test_score\"]].head(2)\n",
    "    display(best2)\n",
    "\n",
    "    print(\n",
    "        \"#df_results.mean_test_score.max()\",\n",
    "        df_results.mean_test_score.max(),\n",
    "        \"\\n\",\n",
    "    )\n",
    "\n",
    "    return best2\n",
    "\n",
    "\n",
    "cv_results: List = []\n",
    "best_params_scores: Dict = {}\n",
    "for i, key in enumerate(param_dict.keys()):\n",
    "    print(\"key\", i, key)\n",
    "    param_grid = {\n",
    "        \"scaler\": [StandardScaler(), MinMaxScaler(), MaxAbsScaler(), RobustScaler()],\n",
    "    }\n",
    "    param_grid.update(param_dict[key])\n",
    "\n",
    "    searchcv = RandomizedSearchCV(\n",
    "        pipe,\n",
    "        param_distributions=param_grid,\n",
    "        n_iter=n_iter,\n",
    "        cv=cv_fold,\n",
    "        verbose=verbose,\n",
    "        random_state=SEED,\n",
    "        n_jobs=-1,\n",
    "    )\n",
    "\n",
    "    searchcv.fit(X_tr, y_tr.ravel())\n",
    "    cv_results.append(print_results(searchcv.cv_results_))\n",
    "    # best_params_scores[key] = {\n",
    "    #     \"best_score_\": searchcv.best_score_,\n",
    "    #     \"searchcv\": searchcv,\n",
    "    # }\n",
    "    # validate\n",
    "    y_pred = searchcv.best_estimator_.predict(X_te)\n",
    "    print(f\"r2 test: \", r2_score(y_te, y_pred))\n",
    "    print(f\"r2 train: \", r2_score(y_tr, searchcv.best_estimator_.predict(X_tr)))\n",
    "    fig, ax = plt.subplots(1, 1, figsize=(6, 3))\n",
    "    ax.scatter(y_te, y_pred, c=\"k\")\n",
    "    ax.plot([y.min(), y.max()], [y.min(), y.max()], \"r\", lw=2)\n",
    "    plt.show()\n",
    "    print(\"==========================\")\n",
    "\n",
    "\n",
    "df_best = pd.DataFrame.from_dict(best_params_scores)\n",
    "top_10: pd.DataFrame = pd.concat(cv_results, axis=0)\n",
    "top_10.sort_values(by=\"mean_test_score\", inplace=True)\n",
    "print(\"------------\")\n",
    "print(\"combine max\", top_10.mean_test_score.max())\n",
    "display(top_10.tail(n=2))\n",
    "fig, ax = plt.subplots(1, 1, figsize=(10, 4))\n",
    "top_10.tail().plot(x=\"params\", y=\"mean_test_score\", kind=\"barh\", ax=ax)\n",
    "plt.grid(visible=True, which=\"both\")\n",
    "plt.xlabel(\"mean_test_score\\n(higher is better)\")\n",
    "plt.title(\"mean_test_score\", loc=\"left\")\n",
    "plt.tight_layout()\n",
    "plt.legend().set_visible(False)\n",
    "plt.show()"
   ]
  },
  {
   "cell_type": "markdown",
   "id": "04e66ad2",
   "metadata": {},
   "source": [
    "### Setup search grid, then search"
   ]
  },
  {
   "cell_type": "markdown",
   "id": "43a0a850",
   "metadata": {},
   "source": [
    "## Predict"
   ]
  },
  {
   "cell_type": "code",
   "execution_count": 10,
   "id": "ef55f768",
   "metadata": {},
   "outputs": [],
   "source": [
    "### Check result"
   ]
  },
  {
   "cell_type": "markdown",
   "id": "96c93299",
   "metadata": {},
   "source": [
    "# extract coefficients"
   ]
  },
  {
   "cell_type": "code",
   "execution_count": 11,
   "id": "ac0a6a41",
   "metadata": {},
   "outputs": [],
   "source": [
    "%pip install plotly\n",
    "%pip install nbformat>=4.2.0"
   ]
  },
  {
   "cell_type": "markdown",
   "id": "76d2d21f",
   "metadata": {
    "vscode": {
     "languageId": "bat"
    }
   },
   "source": []
  },
  {
   "cell_type": "markdown",
   "id": "5fae9c75",
   "metadata": {},
   "source": [
    "## 2.5 feature_importances_"
   ]
  },
  {
   "cell_type": "markdown",
   "id": "b1172a6c",
   "metadata": {},
   "source": [
    "## Evaluation\n",
    "### 2.6 Accuracy"
   ]
  },
  {
   "cell_type": "markdown",
   "id": "4b0808b9",
   "metadata": {},
   "source": [
    "## Explanation\n",
    "understanding and explanation about this statement: “Essentially, supervised machine learning is just to establish the relationship between input (𝑥) and output (𝑦).”\n",
    "Part 3."
   ]
  },
  {
   "cell_type": "markdown",
   "id": "4a9c65c0-29f5-4932-acba-7658891a7007",
   "metadata": {},
   "source": [
    "# Part 3. Any Data, Any Model, Soar"
   ]
  },
  {
   "cell_type": "markdown",
   "id": "f5abbbea-3360-4587-8212-88067e9c9960",
   "metadata": {},
   "source": [
    "## Data"
   ]
  },
  {
   "cell_type": "markdown",
   "id": "3d4314e7",
   "metadata": {},
   "source": [
    "## Gradient boosting"
   ]
  },
  {
   "cell_type": "markdown",
   "id": "e4e13093",
   "metadata": {},
   "source": [
    "## Linear Regression"
   ]
  },
  {
   "cell_type": "markdown",
   "id": "c12303d9",
   "metadata": {},
   "source": [
    "## Linear Regressor"
   ]
  },
  {
   "cell_type": "markdown",
   "id": "0cf91d8a",
   "metadata": {},
   "source": []
  }
 ],
 "metadata": {
  "kernelspec": {
   "display_name": "Python 3 (ipykernel)",
   "language": "python",
   "name": "python3"
  },
  "language_info": {
   "codemirror_mode": {
    "name": "ipython",
    "version": 3
   },
   "file_extension": ".py",
   "mimetype": "text/x-python",
   "name": "python",
   "nbconvert_exporter": "python",
   "pygments_lexer": "ipython3",
   "version": "3.11.9"
  }
 },
 "nbformat": 4,
 "nbformat_minor": 5
}
